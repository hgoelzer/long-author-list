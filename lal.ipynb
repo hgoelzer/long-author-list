{
 "cells": [
  {
   "cell_type": "markdown",
   "metadata": {},
   "source": [
    "# Working with graphical user interfaces\n",
    "\n",
    "## Example: Long Author List formatting tool\n",
    "\n",
    "We will create a graphical user interface (GUI) from the tkinter module and use it to interact with a pandas array.\n"
   ]
  },
  {
   "cell_type": "markdown",
   "metadata": {},
   "source": [
    "### Input data:\n",
    "\n",
    "Here is a list of authors and affiliations from a recent paper.\n",
    "I use a semicolon separated text format to accommodate commas and other special characters in the affiliations strings. I am sure there is something more appropriate, but I want to be flexible to quickly modify in a text editor.  \n",
    "\n",
    "Input: lal_data2.txt with one author per row and up to 5 affiliations\n",
    "\n",
    "    <First>;<Last>;<Email>;<Group1>;<Group2>;<Group3>;<Group4>;<Group5> \n",
    "\n",
    "    Example: Heiko;Goelzer;h.goelzer@uu.nl;IMAU,UU;ULB;nil;nil;nil\n",
    "\n",
    "    Use 'nil','nan','0' or '-' to fill unused affiliations \n",
    "\n",
    "And here is an example file to work with:"
   ]
  },
  {
   "cell_type": "code",
   "execution_count": 1,
   "metadata": {
    "scrolled": true
   },
   "outputs": [
    {
     "name": "stdout",
     "output_type": "stream",
     "text": [
      "Heiko;Goelzer;h.goelzer@uu.nl;IMAU, UU;Labo glaciol, ULB;nil;nil;nil\n",
      "Brice;Noel;name@lab.com;IMAU, UU;nil;nil;nil;nil\n",
      "Michiel;van den Broeke;name@lab.com;IMAU, UU;nil;nil;nil;nil\n",
      "Roderik S. W.;van de Wal;name@lab.com;IMAU, UU;ES,UU;nil;nil;nil\n",
      "Tamsin L.;Edwards;name@lab.com;KC;nil;nil;nil;nil\n",
      "Jonathan M.;Gregory;name@lab.com;HC;nil;nil;nil;nil\n",
      "William H.;Lipscomb;name@lab.com;NCAR;nil;nil;nil;nil\n",
      "Xavier;Fettweis;name@lab.com;ULG;nil;nil;nil;nil\n",
      "\n"
     ]
    }
   ],
   "source": [
    "f = open('lal_data2.txt')\n",
    "inputdata = f.read()\n",
    "f.close()\n",
    "print(inputdata)"
   ]
  },
  {
   "cell_type": "markdown",
   "metadata": {},
   "source": [
    "Let's read this to a pandas array to use high level features, like sorting."
   ]
  },
  {
   "cell_type": "code",
   "execution_count": 2,
   "metadata": {
    "scrolled": true
   },
   "outputs": [],
   "source": [
    "import pandas as pd\n",
    "import numpy as np\n",
    "\n",
    "# Read input data from file\n",
    "df = pd.read_csv('lal_data2.txt', sep=';', header=None ,names=np.array(['FirstName', 'LastName', 'Email', 'Group1','Group2','Group3','Group4','Group5']))\n"
   ]
  },
  {
   "cell_type": "code",
   "execution_count": 3,
   "metadata": {
    "scrolled": true
   },
   "outputs": [
    {
     "name": "stdout",
     "output_type": "stream",
     "text": [
      "64\n",
      "8\n"
     ]
    }
   ],
   "source": [
    "print(df.size)\n",
    "print(df.shape[0])"
   ]
  },
  {
   "cell_type": "code",
   "execution_count": 4,
   "metadata": {
    "scrolled": true
   },
   "outputs": [
    {
     "name": "stdout",
     "output_type": "stream",
     "text": [
      "       FirstName        LastName            Email    Group1  \\\n",
      "0          Heiko         Goelzer  h.goelzer@uu.nl  IMAU, UU   \n",
      "1          Brice            Noel     name@lab.com  IMAU, UU   \n",
      "2        Michiel  van den Broeke     name@lab.com  IMAU, UU   \n",
      "3  Roderik S. W.      van de Wal     name@lab.com  IMAU, UU   \n",
      "4      Tamsin L.         Edwards     name@lab.com        KC   \n",
      "5    Jonathan M.         Gregory     name@lab.com        HC   \n",
      "6     William H.        Lipscomb     name@lab.com      NCAR   \n",
      "7         Xavier        Fettweis     name@lab.com       ULG   \n",
      "\n",
      "              Group2 Group3 Group4 Group5  \n",
      "0  Labo glaciol, ULB    nil    nil    nil  \n",
      "1                nil    nil    nil    nil  \n",
      "2                nil    nil    nil    nil  \n",
      "3              ES,UU    nil    nil    nil  \n",
      "4                nil    nil    nil    nil  \n",
      "5                nil    nil    nil    nil  \n",
      "6                nil    nil    nil    nil  \n",
      "7                nil    nil    nil    nil  \n"
     ]
    }
   ],
   "source": [
    "print(df)"
   ]
  },
  {
   "cell_type": "markdown",
   "metadata": {},
   "source": [
    "### The listbox:\n",
    "\n",
    "Here we set up a reorderable listbox view, which will hold the author names.\n",
    "\n",
    "This listbox has a couple of methods to manipulate it's content: drag-and-drop reordering, sorting, deleting.\n",
    "\n",
    "In the second part a number of different parsing options are defined.\n"
   ]
  },
  {
   "cell_type": "code",
   "execution_count": 5,
   "metadata": {
    "scrolled": true
   },
   "outputs": [],
   "source": [
    "import tkinter as tk;\n",
    "\n",
    "# Listbox for ordering\n",
    "class ReorderableListbox(tk.Listbox):\n",
    "    \"\"\" A Tkinter listbox with drag & drop reordering of lines \"\"\"\n",
    "    def __init__(self, master, **kw):\n",
    "        kw['selectmode'] = tk.EXTENDED\n",
    "        tk.Listbox.__init__(self, master, kw)\n",
    "        self.bind('<Button-1>', self.setCurrent)\n",
    "        self.bind('<Control-1>', self.toggleSelection)\n",
    "        self.bind('<B1-Motion>', self.shiftSelection)\n",
    "        self.bind('<Leave>',  self.onLeave)\n",
    "        self.bind('<Enter>',  self.onEnter)\n",
    "        self.selectionClicked = False\n",
    "        self.left = False\n",
    "        self.unlockShifting()\n",
    "        self.ctrlClicked = False\n",
    "    def orderChangedEventHandler(self):\n",
    "        pass\n",
    "\n",
    "    def onLeave(self, event):\n",
    "        # prevents changing selection when dragging\n",
    "        # already selected items beyond the edge of the listbox\n",
    "        if self.selectionClicked:\n",
    "            self.left = True\n",
    "            return 'break'\n",
    "    def onEnter(self, event):\n",
    "        #TODO\n",
    "        self.left = False\n",
    "\n",
    "    def setCurrent(self, event):\n",
    "        self.ctrlClicked = False\n",
    "        i = self.nearest(event.y)\n",
    "        self.selectionClicked = self.selection_includes(i)\n",
    "        if (self.selectionClicked):\n",
    "            return 'break'\n",
    "\n",
    "    def toggleSelection(self, event):\n",
    "        self.ctrlClicked = True\n",
    "\n",
    "    def moveElement(self, source, target):\n",
    "        if not self.ctrlClicked:\n",
    "            element = self.get(source)\n",
    "            self.delete(source)\n",
    "            self.insert(target, element)\n",
    "\n",
    "    def unlockShifting(self):\n",
    "        self.shifting = False\n",
    "    def lockShifting(self):\n",
    "        # prevent moving processes from disturbing each other\n",
    "        # and prevent scrolling too fast\n",
    "        # when dragged to the top/bottom of visible area\n",
    "        self.shifting = True\n",
    "\n",
    "    def shiftSelection(self, event):\n",
    "        if self.ctrlClicked:\n",
    "            return\n",
    "        selection = self.curselection()\n",
    "        if not self.selectionClicked or len(selection) == 0:\n",
    "            return\n",
    "\n",
    "        selectionRange = range(min(selection), max(selection))\n",
    "        currentIndex = self.nearest(event.y)\n",
    "\n",
    "        if self.shifting:\n",
    "            return 'break'\n",
    "\n",
    "        lineHeight = 12\n",
    "        bottomY = self.winfo_height()\n",
    "        if event.y >= bottomY - lineHeight:\n",
    "            self.lockShifting()\n",
    "            self.see(self.nearest(bottomY - lineHeight) + 1)\n",
    "            self.master.after(500, self.unlockShifting)\n",
    "        if event.y <= lineHeight:\n",
    "            self.lockShifting()\n",
    "            self.see(self.nearest(lineHeight) - 1)\n",
    "            self.master.after(500, self.unlockShifting)\n",
    "\n",
    "        if currentIndex < min(selection):\n",
    "            self.lockShifting()\n",
    "            notInSelectionIndex = 0\n",
    "            for i in selectionRange[::-1]:\n",
    "                if not self.selection_includes(i):\n",
    "                    self.moveElement(i, max(selection)-notInSelectionIndex)\n",
    "                    notInSelectionIndex += 1\n",
    "            currentIndex = min(selection)-1\n",
    "            self.moveElement(currentIndex, currentIndex + len(selection))\n",
    "            self.orderChangedEventHandler()\n",
    "        elif currentIndex > max(selection):\n",
    "            self.lockShifting()\n",
    "            notInSelectionIndex = 0\n",
    "            for i in selectionRange:\n",
    "                if not self.selection_includes(i):\n",
    "                    self.moveElement(i, min(selection)+notInSelectionIndex)\n",
    "                    notInSelectionIndex += 1\n",
    "            currentIndex = max(selection)+1\n",
    "            self.moveElement(currentIndex, currentIndex - len(selection))\n",
    "            self.orderChangedEventHandler()\n",
    "        self.unlockShifting()\n",
    "        return 'break'\n",
    "\n",
    "    def deleteSelection(self):\n",
    "        # delete selected items \n",
    "        if len(self.curselection()) == 0:\n",
    "            return\n",
    "        self.delete(min(self.curselection()),max(self.curselection()))\n",
    "\n",
    "    def sortAll(self):\n",
    "        # sort all items alphabetically\n",
    "        temp_list = list(self.get(0, tk.END))\n",
    "        temp_list.sort(key=str.lower)\n",
    "        # delete contents of present listbox\n",
    "        self.delete(0, tk.END)\n",
    "        # load listbox with sorted data\n",
    "        for item in temp_list:\n",
    "            self.insert(tk.END, item)\n",
    "\n",
    "    def sortSelection(self):\n",
    "        # sort selected items alphabetically\n",
    "        if len(self.curselection()) == 0:\n",
    "            return\n",
    "        mmax = max(self.curselection())\n",
    "        mmin = min(self.curselection())\n",
    "        temp_list = list(self.get(mmin,mmax))\n",
    "        #print(temp_list)\n",
    "        # Sort reverse because pushed back in reverse order\n",
    "        temp_list.sort(key=str.lower,reverse=True)\n",
    "        # delete contents of present listbox\n",
    "        self.delete(mmin,mmax)\n",
    "        # load listbox with sorted data\n",
    "        for item in temp_list:\n",
    "            self.insert(mmin, item)\n",
    "\n",
    "            \n",
    "#### Different saving and parsing options            \n",
    "\n",
    "    def save(self,df):\n",
    "        # save current list\n",
    "        temp_list = list(self.get(0, tk.END))\n",
    "        # create output df\n",
    "        dfout = pd.DataFrame()\n",
    "        for item in temp_list:\n",
    "            items = item.split(\",\")\n",
    "            matchl = (df[\"LastName\"].isin([items[0]]))\n",
    "            matchf = (df[\"FirstName\"].isin([items[1]]))\n",
    "            matche = (df[\"Email\"].isin([items[2]]))\n",
    "            dfout = dfout.append(df[matchf & matchl])\n",
    "        dfout.to_csv('lal_inout2.txt', sep=';', header=None, index=None)\n",
    "        print(\"File saved!\")\n",
    "\n",
    "    def parse_word(self,df):\n",
    "        # parse current list\n",
    "        temp_list = list(self.get(0, tk.END))\n",
    "        # create output df\n",
    "        dfout = pd.DataFrame()\n",
    "        for item in temp_list:\n",
    "            items = item.split(\",\")\n",
    "            matchl = (df[\"LastName\"].isin([items[0]]))\n",
    "            matchf = (df[\"FirstName\"].isin([items[1]]))\n",
    "            dfout = dfout.append(df[matchf & matchl])\n",
    "        # parse\n",
    "        first = dfout[\"FirstName\"]\n",
    "        last = dfout[\"LastName\"]\n",
    "        grp = dfout[[\"Group1\",\"Group2\",\"Group3\",\"Group4\",\"Group5\"]]\n",
    "        unique_groups = []\n",
    "        group_ids = []\n",
    "        k = 0\n",
    "        # collect unique groups and indices\n",
    "        for i in range(0,dfout.shape[0]):\n",
    "            groups = []\n",
    "            # loop through max 5 groups\n",
    "            for j in range(0,5):\n",
    "                # Exclude some common dummy place holders\n",
    "                if (grp.iloc[i,j] not in ['nil','nan','0','-']):\n",
    "                    if (grp.iloc[i,j] not in unique_groups):\n",
    "                        unique_groups.append(grp.iloc[i,j])\n",
    "                        k = k + 1\n",
    "                        groups.append(k)\n",
    "                    else:\n",
    "                        ix = unique_groups.index(grp.iloc[i,j])+1\n",
    "                        groups.append(ix)\n",
    "            # Add author group ids            \n",
    "            group_ids.append(groups)\n",
    "\n",
    "        #print(group_ids)\n",
    "        #print(unique_groups)\n",
    "        # Compose text\n",
    "        with open(\"lal_parsed_word.txt\", \"w\") as text_file:\n",
    "            # write out names\n",
    "            for i in range(0,dfout.shape[0]):\n",
    "                print(first.iloc[i].strip(), end =\" \", file=text_file)\n",
    "                print(last.iloc[i].strip(), end =\"\", file=text_file)\n",
    "                for j in range(0,len(group_ids[i])):\n",
    "                    if j < len(group_ids[i])-1:\n",
    "                        print(str(group_ids[i][j]), end =\",\", file=text_file)\n",
    "                    else:    \n",
    "                        print(str(group_ids[i][j]), end =\"\", file=text_file)\n",
    "                #print(\" \", end =\"\", file=text_file)\n",
    "                if (i < dfout.shape[0]-1):\n",
    "                    # comma and space before next name\n",
    "                    print(\", \", end =\"\", file=text_file)\n",
    "\n",
    "            # Add some space between names and affiliations    \n",
    "            print(\"\\n\\n\", file=text_file)\n",
    "            # Write out affiliations\n",
    "            for i in range(0,len(unique_groups)): \n",
    "                print(\"(\", end =\"\", file=text_file)\n",
    "                print(str(i+1), end =\"\", file=text_file)\n",
    "                print(\")\", end =\" \", file=text_file)\n",
    "                print(unique_groups[i], end =\"\\n\", file=text_file)\n",
    "\n",
    "        print(\"File lal_parsed_word.txt written\")\n",
    "\n",
    "    # Parse tex \\author and \\affil\n",
    "    def parse_tex(self,df):\n",
    "        # save current list\n",
    "        temp_list = list(self.get(0, tk.END))\n",
    "        # create output df\n",
    "        dfout = pd.DataFrame()\n",
    "        for item in temp_list:\n",
    "            items = item.split(\",\")\n",
    "            matchl = (df[\"LastName\"].isin([items[0]]))\n",
    "            matchf = (df[\"FirstName\"].isin([items[1]]))\n",
    "            dfout = dfout.append(df[matchf & matchl])\n",
    "        # parse\n",
    "        first = dfout[\"FirstName\"]\n",
    "        last = dfout[\"LastName\"]\n",
    "        grp = dfout[[\"Group1\",\"Group2\",\"Group3\",\"Group4\",\"Group5\"]]\n",
    "        unique_groups = []\n",
    "        group_ids = []\n",
    "        k = 0\n",
    "        # collect unique groups and indices\n",
    "        for i in range(0,dfout.shape[0]):\n",
    "            groups = []\n",
    "            # loop through max 5 groups\n",
    "            for j in range(0,5):\n",
    "                # Exclude some common dummy place holders\n",
    "                if (grp.iloc[i,j] not in ['nil','nan','0','-']):\n",
    "                    if (grp.iloc[i,j] not in unique_groups):\n",
    "                        unique_groups.append(grp.iloc[i,j])\n",
    "                        k = k + 1\n",
    "                        groups.append(k)\n",
    "                    else:\n",
    "                        ix = unique_groups.index(grp.iloc[i,j])+1\n",
    "                        groups.append(ix)\n",
    "            # Add author group ids            \n",
    "            group_ids.append(groups)\n",
    "\n",
    "        #print(group_ids)\n",
    "        #print(unique_groups)\n",
    "        # Compose text\n",
    "        with open(\"lal_parsed_tex.txt\", \"w\") as text_file:\n",
    "            # write out names\n",
    "            for i in range(0,dfout.shape[0]):\n",
    "                print(\"\\\\Author[\", end =\"\", file=text_file)\n",
    "                for j in range(0,len(group_ids[i])):\n",
    "                    if j < len(group_ids[i])-1:\n",
    "                        print(str(group_ids[i][j]), end =\",\", file=text_file)\n",
    "                    else:    \n",
    "                        print(str(group_ids[i][j]), end =\"]\", file=text_file)\n",
    "\n",
    "                print(\"{\", end =\"\", file=text_file)\n",
    "                print(first.iloc[i].strip(), end =\"\", file=text_file)\n",
    "                print(\"}{\", end =\"\", file=text_file)\n",
    "                print(last.iloc[i].strip(), end =\"\", file=text_file)\n",
    "                print(\"}\", end =\"\\n\", file=text_file)\n",
    "\n",
    "            # Add some space between names and affiliations    \n",
    "            print(\"\\n\", file=text_file)\n",
    "            # Write out affiliations\n",
    "            for i in range(0,len(unique_groups)): \n",
    "                print(\"\\\\affil\", end =\"\", file=text_file)\n",
    "                print(\"[\", end =\"\", file=text_file)\n",
    "                print(str(i+1), end =\"\", file=text_file)\n",
    "                print(\"]\", end =\"\", file=text_file)\n",
    "                print(\"{\", end =\"\", file=text_file)\n",
    "                print(unique_groups[i], end =\"}\\n\", file=text_file)\n",
    "\n",
    "        print(\"File lal_parsed_tex.txt written\")\n",
    "\n",
    "    # Parse simple list of names\n",
    "    def parse_list(self,df):\n",
    "        # save current list\n",
    "        temp_list = list(self.get(0, tk.END))\n",
    "        # create output df\n",
    "        dfout = pd.DataFrame()\n",
    "        for item in temp_list:\n",
    "            items = item.split(\",\")\n",
    "            matchl = (df[\"LastName\"].isin([items[0]]))\n",
    "            matchf = (df[\"FirstName\"].isin([items[1]]))\n",
    "            dfout = dfout.append(df[matchf & matchl])\n",
    "        # parse\n",
    "        first = dfout[\"FirstName\"]\n",
    "        last = dfout[\"LastName\"]\n",
    "        #print(group_ids)\n",
    "        #print(unique_groups)\n",
    "        # Compose text\n",
    "        with open(\"lal_parsed_list.txt\", \"w\") as text_file:\n",
    "            # write out names\n",
    "            for i in range(0,dfout.shape[0]):\n",
    "                print(first.iloc[i].strip(), end =\" \", file=text_file)\n",
    "                print(last.iloc[i].strip(), end =\"\", file=text_file)\n",
    "                print(\"\", file=text_file)\n",
    "\n",
    "        print(\"File lal_parsed_list.txt written!\")\n",
    "\n",
    "    # Parse list of names and emails\n",
    "    def parse_email(self,df):\n",
    "        # save current list\n",
    "        temp_list = list(self.get(0, tk.END))\n",
    "        # create output df\n",
    "        dfout = pd.DataFrame()\n",
    "        for item in temp_list:\n",
    "            items = item.split(\",\")\n",
    "            matchl = (df[\"LastName\"].isin([items[0]]))\n",
    "            matchf = (df[\"FirstName\"].isin([items[1]]))\n",
    "            dfout = dfout.append(df[matchf & matchl])\n",
    "        # parse\n",
    "        first = dfout[\"FirstName\"]\n",
    "        last = dfout[\"LastName\"]\n",
    "        email = dfout[\"Email\"]\n",
    "        #print(group_ids)\n",
    "        #print(unique_groups)\n",
    "        # Compose text\n",
    "        with open(\"lal_parsed_email.txt\", \"w\") as text_file:\n",
    "            # write out names\n",
    "            for i in range(0,dfout.shape[0]):\n",
    "                print(first.iloc[i].strip(), end =\" \", file=text_file)\n",
    "                print(last.iloc[i].strip(), end =\" \", file=text_file)\n",
    "                print(\"<\", end =\"\", file=text_file)\n",
    "                print(email.iloc[i].strip(), end =\"\", file=text_file)\n",
    "                print(\">\", end =\"\", file=text_file)\n",
    "                print(\"\", file=text_file)\n",
    "\n",
    "        print(\"File lal_parsed_email.txt written!\")\n",
    "\n",
    "    # Parse sorted list of names\n",
    "    def parse_sorted(self,df):\n",
    "        # save current list\n",
    "        temp_list = list(self.get(0, tk.END))\n",
    "        # sort all items alphabetically\n",
    "        temp_list.sort(key=str.lower)\n",
    "        # create output df\n",
    "        dfout = pd.DataFrame()\n",
    "        for item in temp_list:\n",
    "            items = item.split(\",\")\n",
    "            matchl = (df[\"LastName\"].isin([items[0]]))\n",
    "            matchf = (df[\"FirstName\"].isin([items[1]]))\n",
    "            dfout = dfout.append(df[matchf & matchl])\n",
    "        # parse\n",
    "        first = dfout[\"FirstName\"]\n",
    "        last = dfout[\"LastName\"]\n",
    "        #print(group_ids)\n",
    "        #print(unique_groups)\n",
    "        # Compose text\n",
    "        with open(\"lal_parsed_sorted.txt\", \"w\") as text_file:\n",
    "            # write out names\n",
    "            for i in range(0,dfout.shape[0]):\n",
    "                print(first.iloc[i].strip(), end =\" \", file=text_file)\n",
    "                print(last.iloc[i].strip(), end =\"\", file=text_file)\n",
    "                print(\"\", file=text_file)\n",
    "\n",
    "        print(\"File lal_parsed_sorted.txt written!\")\n",
    "\n",
    "    # Define what files should be parsed\n",
    "    def parse_all(self,df):\n",
    "        self.parse_word(df)\n",
    "        self.parse_tex(df)\n",
    "        self.parse_list(df)\n",
    "        self.parse_email(df)\n",
    "        self.parse_sorted(df)\n",
    "        print(\"All files parsed!\")\n"
   ]
  },
  {
   "cell_type": "markdown",
   "metadata": {},
   "source": [
    "### The graphical user interface:\n",
    "\n",
    "Here we set up the tkinter GUI.\n",
    "\n",
    "First we create a reorderable listbox view and populates it with our author information.\n"
   ]
  },
  {
   "cell_type": "code",
   "execution_count": 6,
   "metadata": {
    "scrolled": true
   },
   "outputs": [],
   "source": [
    "# GUI to sort names\n",
    "root = tk.Tk()\n",
    "root.geometry(\"200x800\") \n",
    "root.title(\"LongAuthorList\") \n",
    "\n",
    "listbox = ReorderableListbox(root)\n",
    "for i in range(0,df.shape[0]): \n",
    "    listbox.insert(tk.END, df.at[i,'LastName'] + ',' + df.at[i,'FirstName'] +\n",
    "                   ',' + str(i) )\n",
    "\n",
    "listbox.pack(fill=tk.BOTH, expand=True)"
   ]
  },
  {
   "cell_type": "markdown",
   "metadata": {},
   "source": [
    "Add a couple of buttons that connect to methods of the list view."
   ]
  },
  {
   "cell_type": "code",
   "execution_count": 7,
   "metadata": {
    "scrolled": true
   },
   "outputs": [],
   "source": [
    "# Add a delete button\n",
    "db = tk.Button(root, text=\"Delete\", height=2, \n",
    "               command=lambda listbox=listbox: listbox.deleteSelection())\n",
    "db.pack(fill=tk.BOTH, expand=False)\n",
    "\n",
    "# Add button to sort all entries\n",
    "sortallb = tk.Button(root, text=\"Sort All\", height=2, command = lambda: listbox.sortAll())\n",
    "sortallb.pack(fill=tk.BOTH, expand=False)\n",
    "\n",
    "# Add button to sort the selection\n",
    "sortb = tk.Button(root, text=\"Sort Selection\", height=2, command = lambda: listbox.sortSelection())\n",
    "sortb.pack(fill=tk.BOTH, expand=False)\n",
    "\n",
    "# Add a save button\n",
    "saveb = tk.Button(root, text=\"Save\", height=2, command = lambda: listbox.save(df))\n",
    "saveb.pack(fill=tk.BOTH, expand=False)\n",
    "\n",
    "# Add a parse button\n",
    "parseb = tk.Button(root, text=\"Parse\", height=2, command = lambda: listbox.parse_all(df))\n",
    "parseb.pack(fill=tk.BOTH, expand=False)\n"
   ]
  },
  {
   "cell_type": "markdown",
   "metadata": {},
   "source": [
    "### Fire it up:"
   ]
  },
  {
   "cell_type": "code",
   "execution_count": 8,
   "metadata": {
    "scrolled": true
   },
   "outputs": [],
   "source": [
    "# Run the main tool\n",
    "root.mainloop()\n"
   ]
  },
  {
   "cell_type": "markdown",
   "metadata": {},
   "source": [
    "### Output:\n",
    "Output: lal_inout2.txt \n",
    "\n",
    "After saving the modified listing, this file can be used as input the next time."
   ]
  },
  {
   "cell_type": "code",
   "execution_count": 9,
   "metadata": {
    "scrolled": true
   },
   "outputs": [
    {
     "name": "stdout",
     "output_type": "stream",
     "text": [
      "Heiko;Goelzer;h.goelzer@uu.nl;IMAU, UU;Labo glaciol, ULB;nil;nil;nil\n",
      "Brice;Noel;name@lab.com;IMAU, UU;nil;nil;nil;nil\n",
      "Michiel;van den Broeke;name@lab.com;IMAU, UU;nil;nil;nil;nil\n",
      "Roderik S. W.;van de Wal;name@lab.com;IMAU, UU;ES,UU;nil;nil;nil\n",
      "Tamsin L.;Edwards;name@lab.com;KC;nil;nil;nil;nil\n",
      "Jonathan M.;Gregory;name@lab.com;HC;nil;nil;nil;nil\n",
      "William H.;Lipscomb;name@lab.com;NCAR;nil;nil;nil;nil\n",
      "Xavier;Fettweis;name@lab.com;ULG;nil;nil;nil;nil\n",
      "\n"
     ]
    }
   ],
   "source": [
    "f = open('lal_inout2.txt')\n",
    "outputdata = f.read()\n",
    "f.close()\n",
    "print(outputdata)"
   ]
  },
  {
   "cell_type": "markdown",
   "metadata": {},
   "source": [
    "### Parsed:\n",
    "Parsed: lal_parsed_*.txt \n",
    "\n",
    "Text parsed in different formats e.g. to be inserted in a manuscript."
   ]
  },
  {
   "cell_type": "code",
   "execution_count": 10,
   "metadata": {
    "scrolled": true
   },
   "outputs": [
    {
     "name": "stdout",
     "output_type": "stream",
     "text": [
      "Heiko Goelzer1,2, Brice Noel1, Michiel van den Broeke1, Roderik S. W. van de Wal1,3, Tamsin L. Edwards4, Jonathan M. Gregory5, William H. Lipscomb6, Xavier Fettweis7\n",
      "\n",
      "\n",
      "(1) IMAU, UU\n",
      "(2) Labo glaciol, ULB\n",
      "(3) ES,UU\n",
      "(4) KC\n",
      "(5) HC\n",
      "(6) NCAR\n",
      "(7) ULG\n",
      "\n"
     ]
    }
   ],
   "source": [
    "f = open('lal_parsed_word.txt')\n",
    "worddata = f.read()\n",
    "f.close()\n",
    "print(worddata)"
   ]
  },
  {
   "cell_type": "code",
   "execution_count": 11,
   "metadata": {
    "scrolled": true
   },
   "outputs": [
    {
     "name": "stdout",
     "output_type": "stream",
     "text": [
      "\\Author[1,2]{Heiko}{Goelzer}\n",
      "\\Author[1]{Brice}{Noel}\n",
      "\\Author[1]{Michiel}{van den Broeke}\n",
      "\\Author[1,3]{Roderik S. W.}{van de Wal}\n",
      "\\Author[4]{Tamsin L.}{Edwards}\n",
      "\\Author[5]{Jonathan M.}{Gregory}\n",
      "\\Author[6]{William H.}{Lipscomb}\n",
      "\\Author[7]{Xavier}{Fettweis}\n",
      "\n",
      "\n",
      "\\affil[1]{IMAU, UU}\n",
      "\\affil[2]{Labo glaciol, ULB}\n",
      "\\affil[3]{ES,UU}\n",
      "\\affil[4]{KC}\n",
      "\\affil[5]{HC}\n",
      "\\affil[6]{NCAR}\n",
      "\\affil[7]{ULG}\n",
      "\n"
     ]
    }
   ],
   "source": [
    "f = open('lal_parsed_tex.txt')\n",
    "texdata = f.read()\n",
    "f.close()\n",
    "print(texdata)"
   ]
  },
  {
   "cell_type": "code",
   "execution_count": 12,
   "metadata": {
    "scrolled": true
   },
   "outputs": [
    {
     "name": "stdout",
     "output_type": "stream",
     "text": [
      "Heiko Goelzer <h.goelzer@uu.nl>\n",
      "Brice Noel <name@lab.com>\n",
      "Michiel van den Broeke <name@lab.com>\n",
      "Roderik S. W. van de Wal <name@lab.com>\n",
      "Tamsin L. Edwards <name@lab.com>\n",
      "Jonathan M. Gregory <name@lab.com>\n",
      "William H. Lipscomb <name@lab.com>\n",
      "Xavier Fettweis <name@lab.com>\n",
      "\n"
     ]
    }
   ],
   "source": [
    "f = open('lal_parsed_email.txt')\n",
    "emaildata = f.read()\n",
    "f.close()\n",
    "print(emaildata)"
   ]
  }
 ],
 "metadata": {
  "kernelspec": {
   "display_name": "Python 3",
   "language": "python",
   "name": "python3"
  },
  "language_info": {
   "codemirror_mode": {
    "name": "ipython",
    "version": 3
   },
   "file_extension": ".py",
   "mimetype": "text/x-python",
   "name": "python",
   "nbconvert_exporter": "python",
   "pygments_lexer": "ipython3",
   "version": "3.6.6"
  }
 },
 "nbformat": 4,
 "nbformat_minor": 4
}
